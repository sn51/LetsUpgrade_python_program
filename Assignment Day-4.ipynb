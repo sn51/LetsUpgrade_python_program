{
 "cells": [
  {
   "cell_type": "markdown",
   "metadata": {},
   "source": [
    "# Write down a program in Python for opening a file and writing \" I love LetsUpgrade\" and close it and read it again and then append some data to it and close it."
   ]
  },
  {
   "cell_type": "code",
   "execution_count": 2,
   "metadata": {},
   "outputs": [],
   "source": [
    "# create a file\n",
    "abc = open(\"Myfirstfile.txt\",'w')\n",
    "abc.write(\"I Love LetsUpgrade\")\n",
    "abc.close()"
   ]
  },
  {
   "cell_type": "code",
   "execution_count": 3,
   "metadata": {},
   "outputs": [],
   "source": [
    "# reading from a file\n",
    "abc = open(\"Myfirstfile.txt\",'r')\n",
    "content = abc.read()\n",
    "abc.close()\n"
   ]
  },
  {
   "cell_type": "code",
   "execution_count": 6,
   "metadata": {},
   "outputs": [],
   "source": [
    "# appending to a file\n",
    "abc = open(\"Myfirstfile.txt\",'a')\n",
    "abc.write(\" this is a gread online site for programming knowledge\")\n",
    "abc.close()\n"
   ]
  },
  {
   "cell_type": "markdown",
   "metadata": {},
   "source": [
    "# Write a function which can return a factorial of any number as INT, given the argument"
   ]
  },
  {
   "cell_type": "code",
   "execution_count": 10,
   "metadata": {},
   "outputs": [
    {
     "name": "stdout",
     "output_type": "stream",
     "text": [
      "enter the number you want to get factorial --> 12\n",
      "8916100448256\n"
     ]
    }
   ],
   "source": [
    "def factorial(a):\n",
    "    if a== 0:\n",
    "        return(1)\n",
    "    else:\n",
    "        return n*factorial(a-1)\n",
    "a= int(input(\"enter the number you want to get factorial --> \"))\n",
    "print(factorial(a))"
   ]
  },
  {
   "cell_type": "code",
   "execution_count": null,
   "metadata": {},
   "outputs": [],
   "source": []
  },
  {
   "cell_type": "code",
   "execution_count": null,
   "metadata": {},
   "outputs": [],
   "source": []
  }
 ],
 "metadata": {
  "kernelspec": {
   "display_name": "Python 3",
   "language": "python",
   "name": "python3"
  },
  "language_info": {
   "codemirror_mode": {
    "name": "ipython",
    "version": 3
   },
   "file_extension": ".py",
   "mimetype": "text/x-python",
   "name": "python",
   "nbconvert_exporter": "python",
   "pygments_lexer": "ipython3",
   "version": "3.8.3"
  }
 },
 "nbformat": 4,
 "nbformat_minor": 4
}
