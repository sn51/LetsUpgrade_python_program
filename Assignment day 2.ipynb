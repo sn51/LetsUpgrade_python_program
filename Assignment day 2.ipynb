{
 "cells": [
  {
   "cell_type": "markdown",
   "metadata": {},
   "source": [
    "# Try 5 Different functions of the String in Python."
   ]
  },
  {
   "cell_type": "code",
   "execution_count": 2,
   "metadata": {},
   "outputs": [
    {
     "data": {
      "text/plain": [
       "'letsupgrade'"
      ]
     },
     "execution_count": 2,
     "metadata": {},
     "output_type": "execute_result"
    }
   ],
   "source": [
    "# lower() function- converts a string into lower case\n",
    "a = \"LETSUPGRADE\"\n",
    "a.lower()"
   ]
  },
  {
   "cell_type": "code",
   "execution_count": 3,
   "metadata": {},
   "outputs": [
    {
     "data": {
      "text/plain": [
       "True"
      ]
     },
     "execution_count": 3,
     "metadata": {},
     "output_type": "execute_result"
    }
   ],
   "source": [
    "# isupper() function- returns true if the content of string are in upper case\n",
    "b= \"IT IS IN UPPER CASE\"\n",
    "b.isupper()"
   ]
  },
  {
   "cell_type": "code",
   "execution_count": 16,
   "metadata": {},
   "outputs": [
    {
     "data": {
      "text/plain": [
       "True"
      ]
     },
     "execution_count": 16,
     "metadata": {},
     "output_type": "execute_result"
    }
   ],
   "source": [
    "# isalpha() function - returns true if the content of string are only alphabets\n",
    "c = \"ihaveonlyalphabets\"\n",
    "c.isalpha()"
   ]
  },
  {
   "cell_type": "code",
   "execution_count": 17,
   "metadata": {},
   "outputs": [
    {
     "data": {
      "text/plain": [
       "'lETSuPGRADE'"
      ]
     },
     "execution_count": 17,
     "metadata": {},
     "output_type": "execute_result"
    }
   ],
   "source": [
    "# swapcase() function - swaps cases lower cases becomes upper case and vice versa\n",
    "d= \"LetsUpgrade\"\n",
    "d.swapcase()\n"
   ]
  },
  {
   "cell_type": "code",
   "execution_count": 18,
   "metadata": {},
   "outputs": [
    {
     "data": {
      "text/plain": [
       "'Hey I Am Title '"
      ]
     },
     "execution_count": 18,
     "metadata": {},
     "output_type": "execute_result"
    }
   ],
   "source": [
    "# title() function - converts the first character of each word to upper case\n",
    "e= \"hey i am title \"\n",
    "e.title()"
   ]
  },
  {
   "cell_type": "markdown",
   "metadata": {},
   "source": [
    "# Try 5 Different functions of the List object in Python"
   ]
  },
  {
   "cell_type": "code",
   "execution_count": 28,
   "metadata": {},
   "outputs": [
    {
     "data": {
      "text/plain": [
       "[1, 2, 3, ['hey', ' i am here']]"
      ]
     },
     "execution_count": 28,
     "metadata": {},
     "output_type": "execute_result"
    }
   ],
   "source": [
    "# append() - adds an element at the end of list\n",
    "list= []\n",
    "list.append(1)\n",
    "list.append(2)\n",
    "list.append(3)\n",
    "list\n",
    "list2 = ['hey',\" i am here\"]\n",
    "list.append(list2)\n",
    "list"
   ]
  },
  {
   "cell_type": "code",
   "execution_count": 1,
   "metadata": {},
   "outputs": [
    {
     "name": "stdout",
     "output_type": "stream",
     "text": [
      "18\n"
     ]
    }
   ],
   "source": [
    "# sum() - calculates sum of all the elements of the list\n",
    "\n",
    "lst = [2,4,5,7]\n",
    "print(sum(lst))"
   ]
  },
  {
   "cell_type": "code",
   "execution_count": 2,
   "metadata": {},
   "outputs": [
    {
     "data": {
      "text/plain": [
       "7"
      ]
     },
     "execution_count": 2,
     "metadata": {},
     "output_type": "execute_result"
    }
   ],
   "source": [
    "# count() - calculates occurence of elments in the list\n",
    "\n",
    "lst=[2,5,6,2,4,5,8,9,2,7,8,9,9,8,8,8,2,1,2,2,1,2]\n",
    "\n",
    "lst.count(2)"
   ]
  },
  {
   "cell_type": "code",
   "execution_count": 3,
   "metadata": {},
   "outputs": [
    {
     "name": "stdout",
     "output_type": "stream",
     "text": [
      "25\n"
     ]
    }
   ],
   "source": [
    "# len() - calculates the length of the list\n",
    "\n",
    "lst=[2,5,6,2,4,5,8,9,2,7,8,9,9,8,8,8,2,1,2,2,1,2,'hey','wassup',[9.8,8.1]]\n",
    "\n",
    "print(len(lst))\n"
   ]
  },
  {
   "cell_type": "code",
   "execution_count": 6,
   "metadata": {},
   "outputs": [
    {
     "name": "stdout",
     "output_type": "stream",
     "text": [
      "1\n"
     ]
    }
   ],
   "source": [
    "# min() - calculates minimum  of all the elements in the list\n",
    "\n",
    "lst=[2,5,6,2,4,5,8,9,2,7,8,9,9,8,8,8,2,1,2,2,1,2]\n",
    "\n",
    "print(min(lst))\n",
    "\n"
   ]
  },
  {
   "cell_type": "markdown",
   "metadata": {},
   "source": [
    "# experiment with atleast 5 default functions of dictionary"
   ]
  },
  {
   "cell_type": "code",
   "execution_count": 7,
   "metadata": {},
   "outputs": [
    {
     "name": "stdout",
     "output_type": "stream",
     "text": [
      "function\n"
     ]
    }
   ],
   "source": [
    "# get() - helps to access the elements from a dictionary\n",
    "\n",
    "dict = {1:'It is',2:'get',3:'function'}\n",
    "\n",
    "print(dict.get(3))"
   ]
  },
  {
   "cell_type": "code",
   "execution_count": 8,
   "metadata": {},
   "outputs": [
    {
     "name": "stdout",
     "output_type": "stream",
     "text": [
      "{1: 'It is', 2: 'get', 3: 'function'}\n"
     ]
    }
   ],
   "source": [
    "# del() - it will delete the element from a dictionary\n",
    "\n",
    "dict = {1:'It is',2:'get',3:'function',4:'and we will delete this'}\n",
    "\n",
    "del dict[4]\n",
    "\n",
    "print(dict)"
   ]
  },
  {
   "cell_type": "code",
   "execution_count": 9,
   "metadata": {},
   "outputs": [
    {
     "name": "stdout",
     "output_type": "stream",
     "text": [
      "\n",
      " dict after deletion{1: 'It is', 2: 'get', 3: 'function'}\n",
      "value associated to poped key is: and we will delete this\n"
     ]
    }
   ],
   "source": [
    "# pop() - is used to return and delete the value of the key specified\n",
    "\n",
    "dict = {1:'It is',2:'get',3:'function',4:'and we will delete this'}\n",
    "\n",
    "pop_ele = dict.pop(4)\n",
    "print(\"\\n dict after deletion\" +str(dict))\n",
    "print(\"value associated to poped key is: \"+str(pop_ele))\n"
   ]
  },
  {
   "cell_type": "code",
   "execution_count": 10,
   "metadata": {},
   "outputs": [
    {
     "name": "stdout",
     "output_type": "stream",
     "text": [
      "{}\n"
     ]
    }
   ],
   "source": [
    "# clear()- all the items from dictionary can be deleted at once using clear()\n",
    "\n",
    "dict = {1:'It is',2:'get',3:'function',4:'and we will delete this'}\n",
    "\n",
    "dict.clear()\n",
    "\n",
    "print(dict)\n"
   ]
  },
  {
   "cell_type": "code",
   "execution_count": 11,
   "metadata": {},
   "outputs": [
    {
     "name": "stdout",
     "output_type": "stream",
     "text": [
      "{1: 'It is', 2: 'get', 3: 'function', 4: 'and we are going to update it'}\n"
     ]
    }
   ],
   "source": [
    "# update()- updates the dictionary with the elements from the another dictionary object\n",
    "\n",
    "dict1 = {1:'It is',2:'get',3:'function'}\n",
    "dict2= {4:'and we are going to update it'}\n",
    "dict1.update(dict2)\n",
    "\n",
    "print(dict1)\n",
    "        \n"
   ]
  },
  {
   "cell_type": "code",
   "execution_count": null,
   "metadata": {},
   "outputs": [],
   "source": []
  }
 ],
 "metadata": {
  "kernelspec": {
   "display_name": "Python 3",
   "language": "python",
   "name": "python3"
  },
  "language_info": {
   "codemirror_mode": {
    "name": "ipython",
    "version": 3
   },
   "file_extension": ".py",
   "mimetype": "text/x-python",
   "name": "python",
   "nbconvert_exporter": "python",
   "pygments_lexer": "ipython3",
   "version": "3.8.3"
  }
 },
 "nbformat": 4,
 "nbformat_minor": 4
}
